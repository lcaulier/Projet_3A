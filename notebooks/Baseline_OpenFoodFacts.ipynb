{
  "nbformat": 4,
  "nbformat_minor": 0,
  "metadata": {
    "colab": {
      "provenance": [],
      "collapsed_sections": [
        "ViKEDssFU9Qf",
        "Jntw5EK6FngV"
      ]
    },
    "kernelspec": {
      "name": "python3",
      "display_name": "Python 3"
    },
    "language_info": {
      "name": "python"
    }
  },
  "cells": [
    {
      "cell_type": "code",
      "source": [
        "import pandas as pd\n",
        "import numpy as np\n",
        "import os\n",
        "import matplotlib.pyplot as plt\n",
        "import tensorflow as tf\n",
        "from tensorflow import keras as keras\n",
        "from tensorflow.keras.models import Sequential\n",
        "from tensorflow.keras.layers import Dense, Flatten, Dropout, Conv2D, MaxPooling2D, BatchNormalization\n",
        "\n",
        "\n",
        "from PIL import Image\n",
        "from numpy import asarray\n"
      ],
      "metadata": {
        "id": "_9j8wmTJZEOj"
      },
      "execution_count": null,
      "outputs": []
    },
    {
      "cell_type": "code",
      "source": [
        "!unzip data.zip   #dataset zippé uploadé en local sur google collab"
      ],
      "metadata": {
        "colab": {
          "base_uri": "https://localhost:8080/"
        },
        "id": "hQucjA-4T6ED",
        "outputId": "356dd326-2894-4f2b-e07d-efe25cbf3c3b"
      },
      "execution_count": null,
      "outputs": [
        {
          "output_type": "stream",
          "name": "stdout",
          "text": [
            "unzip:  cannot find or open data.zip, data.zip.zip or data.zip.ZIP.\n"
          ]
        }
      ]
    },
    {
      "cell_type": "markdown",
      "source": [
        "#data \"front simple\" vs \"front multi\""
      ],
      "metadata": {
        "id": "ipC5H5uNMK7w"
      }
    },
    {
      "cell_type": "code",
      "source": [
        "!unzip data_front.zip"
      ],
      "metadata": {
        "colab": {
          "base_uri": "https://localhost:8080/"
        },
        "id": "ziApMeBLMN9C",
        "outputId": "ab887a5c-130a-487f-8c51-f208b497d654"
      },
      "execution_count": null,
      "outputs": [
        {
          "output_type": "stream",
          "name": "stdout",
          "text": [
            "Archive:  data_front.zip\n",
            "replace data_front/front simple/front_10141582006.jpg? [y]es, [n]o, [A]ll, [N]one, [r]ename: "
          ]
        }
      ]
    },
    {
      "cell_type": "code",
      "source": [
        "os.chdir('/content/data_front')\n",
        "\n",
        "def create_list_padd(n):\n",
        "  a = []\n",
        "  for i in range (n):\n",
        "    a.append(list(np.zeros(3,dtype=np.int8)))\n",
        "  return a \n",
        "\n",
        "def padd_image(arr):\n",
        "    \n",
        "    a,b,c = arr.shape\n",
        "    arr_return = []\n",
        "    for i in range (a):\n",
        "        long = len(arr[i])\n",
        "        if long < 400:\n",
        "            arr_return.append(list(arr[i])+create_list_padd(400-long))\n",
        "        else:\n",
        "            arr_return.append(arr[i]) \n",
        "    if a < 400:\n",
        "        for i in range (400-a):\n",
        "            arr_return.append(create_list_padd(400))\n",
        "    return(np.array(arr_return))\n",
        "\n",
        "image_list = []\n",
        "liste_front = os.listdir('front simple')\n",
        "os.chdir('front simple')\n",
        "for filename in liste_front:\n",
        "    im=Image.open(filename)\n",
        "    image_list.append(asarray(im))\n",
        "\n",
        "padded_list = []\n",
        "for i in range (len(image_list)):\n",
        "    padded_list.append(padd_image(image_list[i])/255)\n",
        "\n",
        "one_hotlist = []\n",
        "for i in range (250):\n",
        "    one_hotlist.append([1,0])\n",
        "\n",
        "image_list = []\n",
        "os.chdir('..')\n",
        "liste_ing = os.listdir('front_mutli_drive')\n",
        "os.chdir('front_mutli_drive')\n",
        "\n",
        "for filename in liste_ing:\n",
        "    im=Image.open(filename)\n",
        "    image_list.append(asarray(im))\n",
        "\n",
        "for i in range (len(image_list)):\n",
        "    padded_list.append(padd_image(image_list[i])/255)\n",
        "\n",
        "for i in range (250):\n",
        "    one_hotlist.append([0,1])\n",
        "\n",
        "# image_list = []\n",
        "# os.chdir('..')\n",
        "# liste_nut = os.listdir('nutrition')\n",
        "# os.chdir('nutrition')\n",
        "# for filename in liste_nut:\n",
        "#     im=Image.open(filename).convert('L')\n",
        "#     image_list.append(asarray(im))\n",
        "\n",
        "# for i in range (len(image_list)):\n",
        "#     padded_list.append(padd_image(image_list[i])/255)\n",
        "\n",
        "# for i in range (440):\n",
        "#     one_hotlist.append([0,0,1])\n",
        "\n",
        "os.chdir('..')\n",
        "os.chdir('..')"
      ],
      "metadata": {
        "id": "pNwnJGiCMTHx"
      },
      "execution_count": null,
      "outputs": []
    },
    {
      "cell_type": "code",
      "source": [
        "print(len(padded_list))\n",
        "print(len(one_hotlist))"
      ],
      "metadata": {
        "colab": {
          "base_uri": "https://localhost:8080/"
        },
        "id": "c4xTQH6NSHFw",
        "outputId": "b5ff2a18-025c-44a8-d4dd-10d2bef4924a"
      },
      "execution_count": null,
      "outputs": [
        {
          "output_type": "stream",
          "name": "stdout",
          "text": [
            "500\n",
            "500\n"
          ]
        }
      ]
    },
    {
      "cell_type": "code",
      "source": [
        "cols = ['onehot','image']\n",
        "\n",
        "dataset_train = pd.DataFrame(columns = cols)\n",
        "dataset_train['onehot'] = one_hotlist[0:200] + one_hotlist[250:450]\n",
        "dataset_train['image'] = padded_list[0:200] + padded_list[250:450]\n",
        "\n",
        "dataset_test = pd.DataFrame(columns = cols)\n",
        "dataset_test['onehot'] = one_hotlist[200:250] + one_hotlist[450:]\n",
        "dataset_test['image'] = padded_list[200:250] + padded_list[450:]\n",
        "\n",
        "\n",
        "\n"
      ],
      "metadata": {
        "id": "ApD37yiPS1q1"
      },
      "execution_count": null,
      "outputs": []
    },
    {
      "cell_type": "code",
      "source": [
        "dataset_train.describe"
      ],
      "metadata": {
        "id": "8KrwFctnT2mM",
        "colab": {
          "base_uri": "https://localhost:8080/"
        },
        "outputId": "f6b83658-61fc-483e-f46f-46cf48b4221f"
      },
      "execution_count": null,
      "outputs": [
        {
          "output_type": "execute_result",
          "data": {
            "text/plain": [
              "<bound method NDFrame.describe of      onehot                                              image\n",
              "0    [1, 0]  [[[0.7254901960784313, 0.5686274509803921, 0.5...\n",
              "1    [1, 0]  [[[0.7490196078431373, 0.6862745098039216, 0.6...\n",
              "2    [1, 0]  [[[0.5372549019607843, 0.5529411764705883, 0.6...\n",
              "3    [1, 0]  [[[0.9568627450980393, 0.9333333333333333, 0.8...\n",
              "4    [1, 0]  [[[0.5647058823529412, 0.596078431372549, 0.60...\n",
              "..      ...                                                ...\n",
              "395  [0, 1]  [[[1.0, 0.9490196078431372, 0.7333333333333333...\n",
              "396  [0, 1]  [[[0.17254901960784313, 0.10588235294117647, 0...\n",
              "397  [0, 1]  [[[1.0, 1.0, 1.0], [1.0, 1.0, 1.0], [1.0, 1.0,...\n",
              "398  [0, 1]  [[[0.25098039215686274, 0.10588235294117647, 0...\n",
              "399  [0, 1]  [[[0.5764705882352941, 0.6980392156862745, 0.8...\n",
              "\n",
              "[400 rows x 2 columns]>"
            ]
          },
          "metadata": {},
          "execution_count": 5
        }
      ]
    },
    {
      "cell_type": "code",
      "source": [
        "dataset_test.describe"
      ],
      "metadata": {
        "id": "SJX4n4LgUEJW",
        "colab": {
          "base_uri": "https://localhost:8080/"
        },
        "outputId": "582ab848-5b38-4f76-e6b9-ed3dcbab2a0e"
      },
      "execution_count": null,
      "outputs": [
        {
          "output_type": "execute_result",
          "data": {
            "text/plain": [
              "<bound method NDFrame.describe of     onehot                                              image\n",
              "0   [1, 0]  [[[0.09803921568627451, 0.11764705882352941, 0...\n",
              "1   [1, 0]  [[[0.8470588235294118, 0.8156862745098039, 0.7...\n",
              "2   [1, 0]  [[[0.9098039215686274, 0.9529411764705882, 0.9...\n",
              "3   [1, 0]  [[[0.06666666666666667, 0.043137254901960784, ...\n",
              "4   [1, 0]  [[[0.3411764705882353, 0.12156862745098039, 0....\n",
              "..     ...                                                ...\n",
              "95  [0, 1]  [[[0.7647058823529411, 0.6470588235294118, 0.5...\n",
              "96  [0, 1]  [[[0.7725490196078432, 0.8549019607843137, 0.9...\n",
              "97  [0, 1]  [[[0.7607843137254902, 0.8117647058823529, 0.8...\n",
              "98  [0, 1]  [[[1.0, 1.0, 1.0], [1.0, 1.0, 1.0], [1.0, 1.0,...\n",
              "99  [0, 1]  [[[0.7333333333333333, 0.6784313725490196, 0.6...\n",
              "\n",
              "[100 rows x 2 columns]>"
            ]
          },
          "metadata": {},
          "execution_count": 6
        }
      ]
    },
    {
      "cell_type": "code",
      "source": [
        "shuffled_train = dataset_train.sample(frac=1)\n",
        "shuffled_test = dataset_test.sample(frac=1)"
      ],
      "metadata": {
        "id": "NN8aYRSKUmZQ"
      },
      "execution_count": null,
      "outputs": []
    },
    {
      "cell_type": "code",
      "source": [
        "Xtrain = np.array(shuffled_train['image'].to_list())\n",
        "Ytrain = np.array(shuffled_train['onehot'].to_list())\n",
        "Xtest = np.array(shuffled_test['image'].to_list())\n",
        "Ytest = np.array(shuffled_test['onehot'].to_list())"
      ],
      "metadata": {
        "id": "P8A9MFVZU0bB"
      },
      "execution_count": null,
      "outputs": []
    },
    {
      "cell_type": "code",
      "source": [
        "print(Xtrain.shape)\n",
        "print(Ytrain.shape)\n",
        "print(Xtest.shape)\n",
        "print(Ytest.shape)"
      ],
      "metadata": {
        "colab": {
          "base_uri": "https://localhost:8080/"
        },
        "id": "6eGta1ElX3nO",
        "outputId": "29f6d2b2-c5a8-485e-b7d0-3a582d161d41"
      },
      "execution_count": null,
      "outputs": [
        {
          "output_type": "stream",
          "name": "stdout",
          "text": [
            "(400, 400, 400, 3)\n",
            "(400, 2)\n",
            "(100, 400, 400, 3)\n",
            "(100, 2)\n"
          ]
        }
      ]
    },
    {
      "cell_type": "code",
      "source": [
        "input_shape = (400,400,3)\n",
        "\n",
        "model = Sequential()\n",
        "model.add(Conv2D(16, kernel_size=(6,6), strides=(1,1), padding='same', activation='relu', input_shape=input_shape))\n",
        "model.add(MaxPooling2D((4,4)))\n",
        "model.add(Conv2D(32, kernel_size=(3,3), strides=(1,1), padding='same', activation='relu'))\n",
        "model.add(MaxPooling2D((2,2)))\n",
        "model.add(Conv2D(32, kernel_size=(3,3), strides=(1,1), padding='same', activation='relu'))\n",
        "model.add(MaxPooling2D((2,2)))\n",
        "model.add(Flatten())\n",
        "model.add(Dense(64))\n",
        "model.add(Dropout(0.2))\n",
        "model.add(Dense(16))\n",
        "model.add(Dense(2, activation='sigmoid'))\n",
        "model.compile(loss='binary_crossentropy', optimizer='adam', metrics=['accuracy'])\n",
        "\n",
        "print(model.summary())"
      ],
      "metadata": {
        "colab": {
          "base_uri": "https://localhost:8080/"
        },
        "id": "9tKShNEjVC58",
        "outputId": "5b500687-9700-4385-e62b-804a4e99e7a7"
      },
      "execution_count": null,
      "outputs": [
        {
          "output_type": "stream",
          "name": "stdout",
          "text": [
            "Model: \"sequential_7\"\n",
            "_________________________________________________________________\n",
            " Layer (type)                Output Shape              Param #   \n",
            "=================================================================\n",
            " conv2d_15 (Conv2D)          (None, 400, 400, 16)      1744      \n",
            "                                                                 \n",
            " max_pooling2d_15 (MaxPoolin  (None, 100, 100, 16)     0         \n",
            " g2D)                                                            \n",
            "                                                                 \n",
            " conv2d_16 (Conv2D)          (None, 100, 100, 32)      4640      \n",
            "                                                                 \n",
            " max_pooling2d_16 (MaxPoolin  (None, 50, 50, 32)       0         \n",
            " g2D)                                                            \n",
            "                                                                 \n",
            " conv2d_17 (Conv2D)          (None, 50, 50, 32)        9248      \n",
            "                                                                 \n",
            " max_pooling2d_17 (MaxPoolin  (None, 25, 25, 32)       0         \n",
            " g2D)                                                            \n",
            "                                                                 \n",
            " flatten_7 (Flatten)         (None, 20000)             0         \n",
            "                                                                 \n",
            " dense_21 (Dense)            (None, 64)                1280064   \n",
            "                                                                 \n",
            " dropout_7 (Dropout)         (None, 64)                0         \n",
            "                                                                 \n",
            " dense_22 (Dense)            (None, 16)                1040      \n",
            "                                                                 \n",
            " dense_23 (Dense)            (None, 2)                 34        \n",
            "                                                                 \n",
            "=================================================================\n",
            "Total params: 1,296,770\n",
            "Trainable params: 1,296,770\n",
            "Non-trainable params: 0\n",
            "_________________________________________________________________\n",
            "None\n"
          ]
        }
      ]
    },
    {
      "cell_type": "code",
      "source": [
        "loss = model.fit(Xtrain, Ytrain, batch_size=32, epochs=10, validation_split=0.1, callbacks=[], verbose=1)"
      ],
      "metadata": {
        "colab": {
          "base_uri": "https://localhost:8080/"
        },
        "id": "hUyV3MohWAZ7",
        "outputId": "1feb3fb2-7a39-49bc-91ab-10e36fc1dca9"
      },
      "execution_count": null,
      "outputs": [
        {
          "output_type": "stream",
          "name": "stdout",
          "text": [
            "Epoch 1/10\n",
            "12/12 [==============================] - 70s 6s/step - loss: 1.2354 - accuracy: 0.5083 - val_loss: 0.6978 - val_accuracy: 0.6000\n",
            "Epoch 2/10\n",
            "12/12 [==============================] - 65s 5s/step - loss: 0.6828 - accuracy: 0.5250 - val_loss: 0.7063 - val_accuracy: 0.5000\n",
            "Epoch 3/10\n",
            "12/12 [==============================] - 66s 5s/step - loss: 0.6580 - accuracy: 0.6611 - val_loss: 0.7874 - val_accuracy: 0.3500\n",
            "Epoch 4/10\n",
            "12/12 [==============================] - 66s 6s/step - loss: 0.6491 - accuracy: 0.6528 - val_loss: 0.7424 - val_accuracy: 0.4250\n",
            "Epoch 5/10\n",
            "12/12 [==============================] - 69s 6s/step - loss: 0.6004 - accuracy: 0.7000 - val_loss: 0.7258 - val_accuracy: 0.5750\n",
            "Epoch 6/10\n",
            "12/12 [==============================] - 64s 5s/step - loss: 0.5354 - accuracy: 0.7389 - val_loss: 0.8325 - val_accuracy: 0.5750\n",
            "Epoch 7/10\n",
            "12/12 [==============================] - 66s 5s/step - loss: 0.4765 - accuracy: 0.7667 - val_loss: 0.8420 - val_accuracy: 0.5000\n",
            "Epoch 8/10\n",
            "12/12 [==============================] - 67s 6s/step - loss: 0.4109 - accuracy: 0.8139 - val_loss: 0.8734 - val_accuracy: 0.5000\n",
            "Epoch 9/10\n",
            "12/12 [==============================] - 66s 6s/step - loss: 0.3064 - accuracy: 0.8833 - val_loss: 0.9286 - val_accuracy: 0.5250\n",
            "Epoch 10/10\n",
            "12/12 [==============================] - 66s 5s/step - loss: 0.2092 - accuracy: 0.9333 - val_loss: 1.3891 - val_accuracy: 0.5000\n"
          ]
        }
      ]
    },
    {
      "cell_type": "code",
      "source": [
        "score = model.evaluate(Xtest, Ytest, verbose=0)\n",
        "print(\"score=\", score)"
      ],
      "metadata": {
        "colab": {
          "base_uri": "https://localhost:8080/"
        },
        "id": "9UVfJkbIWFeW",
        "outputId": "0cc30fff-fe16-469f-bd9a-e7f7b7a91d8e"
      },
      "execution_count": null,
      "outputs": [
        {
          "output_type": "stream",
          "name": "stdout",
          "text": [
            "score= [1.0430269241333008, 0.6100000143051147]\n"
          ]
        }
      ]
    },
    {
      "cell_type": "markdown",
      "source": [
        "#Baseline"
      ],
      "metadata": {
        "id": "p1gwqSs4VZI5"
      }
    },
    {
      "cell_type": "code",
      "source": [
        "os.chdir('/content/data')\n",
        "\n",
        "def padd_image(arr):\n",
        "    a,b = arr.shape\n",
        "    arr_return = []\n",
        "    for i in range (a):\n",
        "        long = len(arr[i])\n",
        "        if long < 400:\n",
        "            arr_return.append(list(arr[i])+[0]*(400-long))\n",
        "        else:\n",
        "            arr_return.append(arr[i])\n",
        "    if a < 400:\n",
        "        for i in range (400-a):\n",
        "            arr_return.append([0]*400)\n",
        "    return(np.array(arr_return))\n",
        "\n",
        "image_list = []\n",
        "liste_front = os.listdir('front')\n",
        "os.chdir('front')\n",
        "for filename in liste_front:\n",
        "    im=Image.open(filename).convert('L')\n",
        "    image_list.append(asarray(im))\n",
        "\n",
        "padded_list = []\n",
        "for i in range (len(image_list)):\n",
        "    padded_list.append(padd_image(image_list[i])/255)\n",
        "\n",
        "one_hotlist = []\n",
        "for i in range (440):\n",
        "    one_hotlist.append([1,0,0])\n",
        "\n",
        "image_list = []\n",
        "os.chdir('..')\n",
        "liste_ing = os.listdir('ingredients')\n",
        "os.chdir('ingredients')\n",
        "for filename in liste_ing:\n",
        "    im=Image.open(filename).convert('L')\n",
        "    image_list.append(asarray(im))\n",
        "\n",
        "for i in range (len(image_list)):\n",
        "    padded_list.append(padd_image(image_list[i])/255)\n",
        "\n",
        "for i in range (440):\n",
        "    one_hotlist.append([0,1,0])\n",
        "\n",
        "image_list = []\n",
        "os.chdir('..')\n",
        "liste_nut = os.listdir('nutrition')\n",
        "os.chdir('nutrition')\n",
        "for filename in liste_nut:\n",
        "    im=Image.open(filename).convert('L')\n",
        "    image_list.append(asarray(im))\n",
        "\n",
        "for i in range (len(image_list)):\n",
        "    padded_list.append(padd_image(image_list[i])/255)\n",
        "\n",
        "for i in range (440):\n",
        "    one_hotlist.append([0,0,1])\n",
        "\n",
        "os.chdir('..')\n",
        "os.chdir('..')"
      ],
      "metadata": {
        "id": "hHjW9pRgVc0Y"
      },
      "execution_count": null,
      "outputs": []
    },
    {
      "cell_type": "code",
      "source": [
        "print(len(padded_list))\n",
        "print(len(one_hotlist))\n"
      ],
      "metadata": {
        "colab": {
          "base_uri": "https://localhost:8080/"
        },
        "id": "FvNSIAy2VyaO",
        "outputId": "ab7699a6-50d9-482d-8eba-028f777ef4ae"
      },
      "execution_count": null,
      "outputs": [
        {
          "output_type": "stream",
          "name": "stdout",
          "text": [
            "1320\n",
            "1320\n"
          ]
        }
      ]
    },
    {
      "cell_type": "code",
      "source": [
        "cols = ['onehot','image']\n",
        "\n",
        "dataset_final = pd.DataFrame(columns = cols)\n",
        "dataset_final['onehot'] = one_hotlist\n",
        "dataset_final['image'] = padded_list"
      ],
      "metadata": {
        "id": "MAPA9BXJVxu4"
      },
      "execution_count": null,
      "outputs": []
    },
    {
      "cell_type": "code",
      "source": [
        "dataset_final.describe"
      ],
      "metadata": {
        "colab": {
          "base_uri": "https://localhost:8080/"
        },
        "id": "OVPUsluJYAck",
        "outputId": "f99adc7e-8a84-4567-daf4-4eee5d230f83"
      },
      "execution_count": null,
      "outputs": [
        {
          "output_type": "execute_result",
          "data": {
            "text/plain": [
              "<bound method NDFrame.describe of          onehot                                              image\n",
              "0     [1, 0, 0]  [[0.3333333333333333, 0.34509803921568627, 0.3...\n",
              "1     [1, 0, 0]  [[0.45098039215686275, 0.3843137254901961, 0.4...\n",
              "2     [1, 0, 0]  [[0.21176470588235294, 0.18823529411764706, 0....\n",
              "3     [1, 0, 0]  [[0.996078431372549, 0.996078431372549, 0.9960...\n",
              "4     [1, 0, 0]  [[0.38823529411764707, 0.39215686274509803, 0....\n",
              "...         ...                                                ...\n",
              "1315  [0, 0, 1]  [[0.7607843137254902, 0.47058823529411764, 0.4...\n",
              "1316  [0, 0, 1]  [[0.03529411764705882, 0.03529411764705882, 0....\n",
              "1317  [0, 0, 1]  [[0.5137254901960784, 0.5215686274509804, 0.52...\n",
              "1318  [0, 0, 1]  [[0.6039215686274509, 0.6235294117647059, 0.64...\n",
              "1319  [0, 0, 1]  [[0.1607843137254902, 0.16862745098039217, 0.1...\n",
              "\n",
              "[1320 rows x 2 columns]>"
            ]
          },
          "metadata": {},
          "execution_count": 6
        }
      ]
    },
    {
      "cell_type": "code",
      "source": [
        "shuffled_data = dataset_final.sample(frac=1)\n",
        "shuffled_data"
      ],
      "metadata": {
        "colab": {
          "base_uri": "https://localhost:8080/",
          "height": 424
        },
        "id": "Od3EYLveno35",
        "outputId": "4d13bf2d-3a54-4cdd-ec9e-e43189044288"
      },
      "execution_count": null,
      "outputs": [
        {
          "output_type": "execute_result",
          "data": {
            "text/plain": [
              "         onehot                                              image\n",
              "664   [0, 1, 0]  [[0.3333333333333333, 0.34901960784313724, 0.3...\n",
              "195   [1, 0, 0]  [[0.5176470588235295, 0.5058823529411764, 0.49...\n",
              "130   [1, 0, 0]  [[0.8627450980392157, 0.8666666666666667, 0.87...\n",
              "1025  [0, 0, 1]  [[0.8313725490196079, 0.8274509803921568, 0.81...\n",
              "437   [1, 0, 0]  [[0.6745098039215687, 0.6705882352941176, 0.66...\n",
              "...         ...                                                ...\n",
              "36    [1, 0, 0]  [[0.6901960784313725, 0.7019607843137254, 0.61...\n",
              "201   [1, 0, 0]  [[0.5019607843137255, 0.5803921568627451, 0.49...\n",
              "96    [1, 0, 0]  [[0.4588235294117647, 0.4470588235294118, 0.43...\n",
              "576   [0, 1, 0]  [[0.7647058823529411, 0.7647058823529411, 0.76...\n",
              "1297  [0, 0, 1]  [[0.7764705882352941, 0.7803921568627451, 0.78...\n",
              "\n",
              "[1320 rows x 2 columns]"
            ],
            "text/html": [
              "\n",
              "  <div id=\"df-712fcf2f-a897-4e8d-9053-acf55e4aa9ed\">\n",
              "    <div class=\"colab-df-container\">\n",
              "      <div>\n",
              "<style scoped>\n",
              "    .dataframe tbody tr th:only-of-type {\n",
              "        vertical-align: middle;\n",
              "    }\n",
              "\n",
              "    .dataframe tbody tr th {\n",
              "        vertical-align: top;\n",
              "    }\n",
              "\n",
              "    .dataframe thead th {\n",
              "        text-align: right;\n",
              "    }\n",
              "</style>\n",
              "<table border=\"1\" class=\"dataframe\">\n",
              "  <thead>\n",
              "    <tr style=\"text-align: right;\">\n",
              "      <th></th>\n",
              "      <th>onehot</th>\n",
              "      <th>image</th>\n",
              "    </tr>\n",
              "  </thead>\n",
              "  <tbody>\n",
              "    <tr>\n",
              "      <th>664</th>\n",
              "      <td>[0, 1, 0]</td>\n",
              "      <td>[[0.3333333333333333, 0.34901960784313724, 0.3...</td>\n",
              "    </tr>\n",
              "    <tr>\n",
              "      <th>195</th>\n",
              "      <td>[1, 0, 0]</td>\n",
              "      <td>[[0.5176470588235295, 0.5058823529411764, 0.49...</td>\n",
              "    </tr>\n",
              "    <tr>\n",
              "      <th>130</th>\n",
              "      <td>[1, 0, 0]</td>\n",
              "      <td>[[0.8627450980392157, 0.8666666666666667, 0.87...</td>\n",
              "    </tr>\n",
              "    <tr>\n",
              "      <th>1025</th>\n",
              "      <td>[0, 0, 1]</td>\n",
              "      <td>[[0.8313725490196079, 0.8274509803921568, 0.81...</td>\n",
              "    </tr>\n",
              "    <tr>\n",
              "      <th>437</th>\n",
              "      <td>[1, 0, 0]</td>\n",
              "      <td>[[0.6745098039215687, 0.6705882352941176, 0.66...</td>\n",
              "    </tr>\n",
              "    <tr>\n",
              "      <th>...</th>\n",
              "      <td>...</td>\n",
              "      <td>...</td>\n",
              "    </tr>\n",
              "    <tr>\n",
              "      <th>36</th>\n",
              "      <td>[1, 0, 0]</td>\n",
              "      <td>[[0.6901960784313725, 0.7019607843137254, 0.61...</td>\n",
              "    </tr>\n",
              "    <tr>\n",
              "      <th>201</th>\n",
              "      <td>[1, 0, 0]</td>\n",
              "      <td>[[0.5019607843137255, 0.5803921568627451, 0.49...</td>\n",
              "    </tr>\n",
              "    <tr>\n",
              "      <th>96</th>\n",
              "      <td>[1, 0, 0]</td>\n",
              "      <td>[[0.4588235294117647, 0.4470588235294118, 0.43...</td>\n",
              "    </tr>\n",
              "    <tr>\n",
              "      <th>576</th>\n",
              "      <td>[0, 1, 0]</td>\n",
              "      <td>[[0.7647058823529411, 0.7647058823529411, 0.76...</td>\n",
              "    </tr>\n",
              "    <tr>\n",
              "      <th>1297</th>\n",
              "      <td>[0, 0, 1]</td>\n",
              "      <td>[[0.7764705882352941, 0.7803921568627451, 0.78...</td>\n",
              "    </tr>\n",
              "  </tbody>\n",
              "</table>\n",
              "<p>1320 rows × 2 columns</p>\n",
              "</div>\n",
              "      <button class=\"colab-df-convert\" onclick=\"convertToInteractive('df-712fcf2f-a897-4e8d-9053-acf55e4aa9ed')\"\n",
              "              title=\"Convert this dataframe to an interactive table.\"\n",
              "              style=\"display:none;\">\n",
              "        \n",
              "  <svg xmlns=\"http://www.w3.org/2000/svg\" height=\"24px\"viewBox=\"0 0 24 24\"\n",
              "       width=\"24px\">\n",
              "    <path d=\"M0 0h24v24H0V0z\" fill=\"none\"/>\n",
              "    <path d=\"M18.56 5.44l.94 2.06.94-2.06 2.06-.94-2.06-.94-.94-2.06-.94 2.06-2.06.94zm-11 1L8.5 8.5l.94-2.06 2.06-.94-2.06-.94L8.5 2.5l-.94 2.06-2.06.94zm10 10l.94 2.06.94-2.06 2.06-.94-2.06-.94-.94-2.06-.94 2.06-2.06.94z\"/><path d=\"M17.41 7.96l-1.37-1.37c-.4-.4-.92-.59-1.43-.59-.52 0-1.04.2-1.43.59L10.3 9.45l-7.72 7.72c-.78.78-.78 2.05 0 2.83L4 21.41c.39.39.9.59 1.41.59.51 0 1.02-.2 1.41-.59l7.78-7.78 2.81-2.81c.8-.78.8-2.07 0-2.86zM5.41 20L4 18.59l7.72-7.72 1.47 1.35L5.41 20z\"/>\n",
              "  </svg>\n",
              "      </button>\n",
              "      \n",
              "  <style>\n",
              "    .colab-df-container {\n",
              "      display:flex;\n",
              "      flex-wrap:wrap;\n",
              "      gap: 12px;\n",
              "    }\n",
              "\n",
              "    .colab-df-convert {\n",
              "      background-color: #E8F0FE;\n",
              "      border: none;\n",
              "      border-radius: 50%;\n",
              "      cursor: pointer;\n",
              "      display: none;\n",
              "      fill: #1967D2;\n",
              "      height: 32px;\n",
              "      padding: 0 0 0 0;\n",
              "      width: 32px;\n",
              "    }\n",
              "\n",
              "    .colab-df-convert:hover {\n",
              "      background-color: #E2EBFA;\n",
              "      box-shadow: 0px 1px 2px rgba(60, 64, 67, 0.3), 0px 1px 3px 1px rgba(60, 64, 67, 0.15);\n",
              "      fill: #174EA6;\n",
              "    }\n",
              "\n",
              "    [theme=dark] .colab-df-convert {\n",
              "      background-color: #3B4455;\n",
              "      fill: #D2E3FC;\n",
              "    }\n",
              "\n",
              "    [theme=dark] .colab-df-convert:hover {\n",
              "      background-color: #434B5C;\n",
              "      box-shadow: 0px 1px 3px 1px rgba(0, 0, 0, 0.15);\n",
              "      filter: drop-shadow(0px 1px 2px rgba(0, 0, 0, 0.3));\n",
              "      fill: #FFFFFF;\n",
              "    }\n",
              "  </style>\n",
              "\n",
              "      <script>\n",
              "        const buttonEl =\n",
              "          document.querySelector('#df-712fcf2f-a897-4e8d-9053-acf55e4aa9ed button.colab-df-convert');\n",
              "        buttonEl.style.display =\n",
              "          google.colab.kernel.accessAllowed ? 'block' : 'none';\n",
              "\n",
              "        async function convertToInteractive(key) {\n",
              "          const element = document.querySelector('#df-712fcf2f-a897-4e8d-9053-acf55e4aa9ed');\n",
              "          const dataTable =\n",
              "            await google.colab.kernel.invokeFunction('convertToInteractive',\n",
              "                                                     [key], {});\n",
              "          if (!dataTable) return;\n",
              "\n",
              "          const docLinkHtml = 'Like what you see? Visit the ' +\n",
              "            '<a target=\"_blank\" href=https://colab.research.google.com/notebooks/data_table.ipynb>data table notebook</a>'\n",
              "            + ' to learn more about interactive tables.';\n",
              "          element.innerHTML = '';\n",
              "          dataTable['output_type'] = 'display_data';\n",
              "          await google.colab.output.renderOutput(dataTable, element);\n",
              "          const docLink = document.createElement('div');\n",
              "          docLink.innerHTML = docLinkHtml;\n",
              "          element.appendChild(docLink);\n",
              "        }\n",
              "      </script>\n",
              "    </div>\n",
              "  </div>\n",
              "  "
            ]
          },
          "metadata": {},
          "execution_count": 22
        }
      ]
    },
    {
      "cell_type": "code",
      "source": [
        "X = shuffled_data['image'].to_list()\n",
        "Y = shuffled_data['onehot'].to_list()"
      ],
      "metadata": {
        "id": "sMjq1F_nnz5N"
      },
      "execution_count": null,
      "outputs": []
    },
    {
      "cell_type": "code",
      "source": [
        "Xtrain = np.array(X[:1056])\n",
        "Xtest = np.array(X[1056:])\n",
        "Ytrain = np.array(Y[:1056])\n",
        "Ytest = np.array(Y[1056:])"
      ],
      "metadata": {
        "id": "dz31nlqioHJW"
      },
      "execution_count": null,
      "outputs": []
    },
    {
      "cell_type": "code",
      "source": [
        "print(Xtrain.shape)\n",
        "print(Ytrain.shape)\n",
        "print(Xtest.shape)\n",
        "print(Ytest.shape)"
      ],
      "metadata": {
        "colab": {
          "base_uri": "https://localhost:8080/"
        },
        "id": "sIh1kAxsp3g4",
        "outputId": "de4e1e97-7b4f-4c50-a53f-c71dbf89941f"
      },
      "execution_count": null,
      "outputs": [
        {
          "output_type": "stream",
          "name": "stdout",
          "text": [
            "(1056, 400, 400)\n",
            "(1056, 3)\n",
            "(264, 400, 400)\n",
            "(264, 3)\n"
          ]
        }
      ]
    },
    {
      "cell_type": "markdown",
      "source": [
        "##RéseauCNN\n"
      ],
      "metadata": {
        "id": "Cx1Xe7PGol0i"
      }
    },
    {
      "cell_type": "code",
      "source": [
        "input_shape = (400,400,1)\n",
        "\n",
        "model = Sequential()\n",
        "model.add(Conv2D(16, kernel_size=(6,6), strides=(1,1), padding='same', activation='relu', input_shape=input_shape))\n",
        "model.add(MaxPooling2D((4,4)))\n",
        "# model.add(Conv2D(32, kernel_size=(3,3), strides=(1,1), padding='same', activation='relu'))\n",
        "# model.add(MaxPooling2D((2,2)))\n",
        "model.add(Conv2D(32, kernel_size=(3,3), strides=(1,1), padding='same', activation='relu'))\n",
        "model.add(MaxPooling2D((4,4)))\n",
        "model.add(Flatten())\n",
        "model.add(Dense(64))\n",
        "model.add(Dropout(0.2))\n",
        "model.add(Dense(16))\n",
        "model.add(Dense(3, activation='softmax'))\n",
        "model.compile(loss='categorical_crossentropy', optimizer='adam', metrics=['accuracy'])\n",
        "\n",
        "print(model.summary())"
      ],
      "metadata": {
        "colab": {
          "base_uri": "https://localhost:8080/"
        },
        "id": "wVSALOb7ooWy",
        "outputId": "cbc21c58-4d0d-4d93-fa89-63399dbbe648"
      },
      "execution_count": null,
      "outputs": [
        {
          "output_type": "stream",
          "name": "stdout",
          "text": [
            "Model: \"sequential_3\"\n",
            "_________________________________________________________________\n",
            " Layer (type)                Output Shape              Param #   \n",
            "=================================================================\n",
            " conv2d_6 (Conv2D)           (None, 400, 400, 16)      592       \n",
            "                                                                 \n",
            " max_pooling2d_6 (MaxPooling  (None, 100, 100, 16)     0         \n",
            " 2D)                                                             \n",
            "                                                                 \n",
            " conv2d_7 (Conv2D)           (None, 100, 100, 32)      4640      \n",
            "                                                                 \n",
            " max_pooling2d_7 (MaxPooling  (None, 25, 25, 32)       0         \n",
            " 2D)                                                             \n",
            "                                                                 \n",
            " flatten_3 (Flatten)         (None, 20000)             0         \n",
            "                                                                 \n",
            " dense_9 (Dense)             (None, 64)                1280064   \n",
            "                                                                 \n",
            " dropout_3 (Dropout)         (None, 64)                0         \n",
            "                                                                 \n",
            " dense_10 (Dense)            (None, 16)                1040      \n",
            "                                                                 \n",
            " dense_11 (Dense)            (None, 3)                 51        \n",
            "                                                                 \n",
            "=================================================================\n",
            "Total params: 1,286,387\n",
            "Trainable params: 1,286,387\n",
            "Non-trainable params: 0\n",
            "_________________________________________________________________\n",
            "None\n"
          ]
        }
      ]
    },
    {
      "cell_type": "code",
      "source": [
        "loss = model.fit(Xtrain, Ytrain, batch_size=128, epochs=12, validation_split=0.1, callbacks=[], verbose=1)"
      ],
      "metadata": {
        "colab": {
          "base_uri": "https://localhost:8080/"
        },
        "id": "iRfChHGLqiay",
        "outputId": "75efef1c-803a-4c80-c1cf-a8f20c9d083d"
      },
      "execution_count": null,
      "outputs": [
        {
          "output_type": "stream",
          "name": "stdout",
          "text": [
            "Epoch 1/12\n",
            "8/8 [==============================] - 67s 8s/step - loss: 2.4295 - accuracy: 0.4189 - val_loss: 1.4530 - val_accuracy: 0.4906\n",
            "Epoch 2/12\n",
            "8/8 [==============================] - 65s 8s/step - loss: 1.1933 - accuracy: 0.5389 - val_loss: 0.9760 - val_accuracy: 0.6321\n",
            "Epoch 3/12\n",
            "8/8 [==============================] - 63s 8s/step - loss: 0.9584 - accuracy: 0.5453 - val_loss: 0.8887 - val_accuracy: 0.6132\n",
            "Epoch 4/12\n",
            "8/8 [==============================] - 63s 8s/step - loss: 0.8609 - accuracy: 0.6042 - val_loss: 0.8590 - val_accuracy: 0.6226\n",
            "Epoch 5/12\n",
            "8/8 [==============================] - 63s 8s/step - loss: 0.8066 - accuracy: 0.6432 - val_loss: 0.9133 - val_accuracy: 0.5472\n",
            "Epoch 6/12\n",
            "8/8 [==============================] - 63s 8s/step - loss: 0.7351 - accuracy: 0.6632 - val_loss: 0.8202 - val_accuracy: 0.5849\n",
            "Epoch 7/12\n",
            "8/8 [==============================] - 65s 8s/step - loss: 0.6829 - accuracy: 0.6968 - val_loss: 0.7437 - val_accuracy: 0.6321\n",
            "Epoch 8/12\n",
            "8/8 [==============================] - 63s 8s/step - loss: 0.5808 - accuracy: 0.7537 - val_loss: 0.7628 - val_accuracy: 0.6698\n",
            "Epoch 9/12\n",
            "8/8 [==============================] - 63s 8s/step - loss: 0.5164 - accuracy: 0.7684 - val_loss: 0.6333 - val_accuracy: 0.7170\n",
            "Epoch 10/12\n",
            "8/8 [==============================] - 67s 8s/step - loss: 0.4471 - accuracy: 0.8189 - val_loss: 0.6361 - val_accuracy: 0.7075\n",
            "Epoch 11/12\n",
            "8/8 [==============================] - 66s 8s/step - loss: 0.4001 - accuracy: 0.8379 - val_loss: 0.6553 - val_accuracy: 0.6981\n",
            "Epoch 12/12\n",
            "8/8 [==============================] - 64s 8s/step - loss: 0.3664 - accuracy: 0.8674 - val_loss: 0.5784 - val_accuracy: 0.7642\n"
          ]
        }
      ]
    },
    {
      "cell_type": "code",
      "source": [
        "score = model.evaluate(Xtest, Ytest, verbose=0)\n",
        "print(\"score=\", score)"
      ],
      "metadata": {
        "colab": {
          "base_uri": "https://localhost:8080/"
        },
        "id": "7uhw0UIwxEAQ",
        "outputId": "6d495ed8-8c83-4d7b-c997-12123c56627b"
      },
      "execution_count": null,
      "outputs": [
        {
          "output_type": "stream",
          "name": "stdout",
          "text": [
            "score= [0.5818871259689331, 0.7424242496490479]\n"
          ]
        }
      ]
    },
    {
      "cell_type": "code",
      "source": [
        " plt.figure(1)\n",
        "plt.plot(loss.history['loss'], label=\"loss\")\n",
        "plt.plot(loss.history['accuracy'], label=\"acc\")\n",
        "plt.plot(loss.history['val_loss'], label=\"val_loss\")\n",
        "plt.plot(loss.history['val_accuracy'], label=\"val_acc\")\n",
        "plt.legend()\n",
        "plt.show()"
      ],
      "metadata": {
        "colab": {
          "base_uri": "https://localhost:8080/",
          "height": 265
        },
        "id": "gk-mtQcmyC5i",
        "outputId": "1f50341f-8646-4acd-a52f-de96d1e3ffaa"
      },
      "execution_count": null,
      "outputs": [
        {
          "output_type": "display_data",
          "data": {
            "text/plain": [
              "<Figure size 432x288 with 1 Axes>"
            ],
            "image/png": "[encoded data removed]"
          },
          "metadata": {
            "needs_background": "light"
          }
        }
      ]
    },
    {
      "cell_type": "code",
      "source": [
        "model_json = model.to_json()\n",
        "with open(\"model.json\", \"w\") as json_file:\n",
        "    json_file.write(model_json)"
      ],
      "metadata": {
        "id": "JLGAf1K0yz4z"
      },
      "execution_count": null,
      "outputs": []
    },
    {
      "cell_type": "code",
      "source": [
        "model.save('model.h5')"
      ],
      "metadata": {
        "id": "P38cxRh3y1Nv"
      },
      "execution_count": null,
      "outputs": []
    }
  ]
}